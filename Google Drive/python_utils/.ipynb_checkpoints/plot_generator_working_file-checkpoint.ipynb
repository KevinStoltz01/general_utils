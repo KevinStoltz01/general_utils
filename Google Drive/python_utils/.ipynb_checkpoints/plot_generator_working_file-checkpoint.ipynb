{
 "cells": [
  {
   "cell_type": "markdown",
   "metadata": {},
   "source": [
    "To do:\n",
    "\n",
    "1. Get to work on an (n, n), n > 1 plot... It's going to be a mess"
   ]
  },
  {
   "cell_type": "code",
   "execution_count": 40,
   "metadata": {
    "collapsed": true
   },
   "outputs": [],
   "source": [
    "%matplotlib inline\n",
    "\n",
    "import glob\n",
    "import matplotlib.pyplot as plt\n",
    "import numpy as np\n",
    "import os\n",
    "import pandas as pd\n",
    "from pathlib import Path"
   ]
  },
  {
   "cell_type": "code",
   "execution_count": 41,
   "metadata": {
    "collapsed": true
   },
   "outputs": [],
   "source": [
    "FIGURE_SIZE = (20, 10)\n",
    "FIGURE_TITLE = \"I like my figures\"\n",
    "FIGURE_TITLE_FONT_SIZE = 16\n",
    "SHAREX = True\n",
    "SHAREY = True\n",
    "\n",
    "AX_LAYOUT = (1, 2)\n",
    "AX_TITLES = [\"Double Ax Test\", None]\n",
    "AX_TITLE_FONT_SIZE = 16\n",
    "\n",
    "X_AXIS_LABEL = \"X\"\n",
    "Y_AXIS_LABEL = \"Y\"\n",
    "AXIS_LABEL_FONT_SIZE = 14\n",
    "\n",
    "SHAREXLABEL = True\n",
    "SHAREYLABEL = True\n",
    "\n",
    "TICK_FONT_SIZE = 12\n",
    "TICK_FONT_SIZE = 12"
   ]
  },
  {
   "cell_type": "code",
   "execution_count": 42,
   "metadata": {
    "collapsed": true
   },
   "outputs": [],
   "source": [
    "def pack_args(figure_size=FIGURE_SIZE, figure_title=FIGURE_TITLE, figure_title_font_size=FIGURE_TITLE_FONT_SIZE, \n",
    "              sharex=SHAREX, sharey=SHAREY, ax_layout=AX_LAYOUT, ax_titles = AX_TITLES, ax_title_font_size=AX_TITLE_FONT_SIZE, \n",
    "              x_axis_label=X_AXIS_LABEL, y_axis_label=Y_AXIS_LABEL, axis_label_font_size=AXIS_LABEL_FONT_SIZE, \n",
    "              sharexlabel=SHAREXLABEL, shareylabel=SHAREYLABEL, tick_font_size=TICK_FONT_SIZE):\n",
    "    \n",
    "    return {\"figure_size\": figure_size, \"figure_title\":figure_title , \"figure_title_font_size\": figure_title_font_size, \n",
    "            \"sharex\": sharex, \"sharey\": sharey, \"ax_layout\": ax_layout, \"ax_titles\": ax_titles, \n",
    "            \"ax_title_font_size\": ax_title_font_size, \"x_axis_label\": x_axis_label, \"y_axis_label\": y_axis_label, \n",
    "            \"axis_label_font_size\": axis_label_font_size, \"sharexlabel\": sharexlabel, \"shareylabel\": shareylabel, \n",
    "            \"tick_font_size\": tick_font_size}\n",
    "    "
   ]
  },
  {
   "cell_type": "code",
   "execution_count": 43,
   "metadata": {
    "collapsed": true
   },
   "outputs": [],
   "source": [
    "class FormattedPlot():\n",
    "\n",
    "    def __init__(self, figure_size=None, figure_title=None, figure_title_font_size=12, sharex=False, sharey=False,\n",
    "                 ax_layout=None, ax_titles = None, ax_title_font_size=12, x_axis_label=None, y_axis_label=None,  \n",
    "                 axis_label_font_size=12, sharexlabel=False, shareylabel=False, tick_font_size=12):\n",
    "\n",
    "        \"\"\"\n",
    "        Generates a Matplotlib figure with specified axis and label formatting\n",
    "\n",
    "        ###########################################\n",
    "        ######### FIGURE-LEVEL ARGS ###############\n",
    "        ###########################################\n",
    "        figure_size: (tuple) The size of the figure\n",
    "        figure_title: (str) The figure title\n",
    "        figure_title_font_size: (str) The font size of the figure title\n",
    "        sharex: (bool)  Whether or not to share x axis\n",
    "        sharey: (bool)  Whether or not to share y axis\n",
    "        \n",
    "        ###########################################\n",
    "        ########### AXIS-LEVEL ARGS ###############\n",
    "        ###########################################\n",
    "        ax_layout: (tuple) Layout for a multi-ax figure\n",
    "        ax_titles: (str or list of strings) axis title(s)\n",
    "        ax_title_font_size (int): Font size of the ax titles\n",
    "        \n",
    "        x_axis_label: (str) The label of the x axis \n",
    "        y_axis_label: (str) The label of the y axis\n",
    "        axis_label_font_size: (int) The font size of the x and y axis labels\n",
    "        \n",
    "        sharexlabel: (bool) Whether or not to share x axis labels\n",
    "        shareylabel: (bool) Whether or not to share y axis labels\n",
    "        tick_font_size: (int) The font size of x and y tick marks\n",
    "        \"\"\"\n",
    "\n",
    "        self.figure_size = figure_size\n",
    "        self.figure_title = figure_title\n",
    "        self.figure_title_font_size = figure_title_font_size\n",
    "        self.sharex = sharex\n",
    "        self.sharey = sharey\n",
    "        \n",
    "        self.ax_layout = ax_layout\n",
    "        self.ax_titles = ax_titles\n",
    "        self.ax_title_font_size = ax_title_font_size\n",
    "        \n",
    "        self.x_axis_label = x_axis_label\n",
    "        self.sharexlabel = sharexlabel\n",
    "        self.y_axis_label = y_axis_label\n",
    "        self.shareylabel = shareylabel\n",
    "        self.axis_label_font_size = axis_label_font_size\n",
    "        \n",
    "        self.tick_font_size = tick_font_size\n",
    "        \n",
    "        if self.ax_layout is not None:\n",
    "            self.row_col_logic = (self.ax_layout[0] == 1 and self.ax_layout[1] != 1) or \\\n",
    "            (self.ax_layout[0] != 1 and self.ax_layout[1] == 1)\n",
    "    \n",
    "    def generate_formatted_figure(self):\n",
    "        \n",
    "        if self.ax_layout is None:\n",
    "            fig, ax = self.make_single_ax_fig()  # return a single-ax figure\n",
    "            \n",
    "            return fig, ax\n",
    "\n",
    "        elif (self.row_col_logic):\n",
    "            \n",
    "            if self.ax_layout[0] == 1:\n",
    "                fig, axes = self.make_row_fig()  # return a figure with axes in a single row\n",
    "                               \n",
    "            elif self.ax_layout[1] == 1:\n",
    "                fig, axes = self.make_col_fig()  # return a figure with axes in a single column\n",
    "                \n",
    "            return fig, axes\n",
    "    \n",
    "        '''\n",
    "        # return a figure formatted in a grid structure\n",
    "        else self.axes_layout[0] != 1 and self.axes_layout[1] != 1:\n",
    "            for i in range(self.axes_layout[0]):\n",
    "                for j in range(self.axes_layout[1]):\n",
    "                    set_axis(axes[i, j])\n",
    "        '''\n",
    "            \n",
    "    def make_single_ax_fig(self):\n",
    "        _fig, _ax = plt.subplots(figsize=self.figure_size)\n",
    "        \n",
    "        if self.figure_title is not None:\n",
    "            _fig.suptitle(self.figure_title, fontsize=self.figure_title_font_size)\n",
    "        if self.ax_titles != None and type(self.ax_titles) != str :\n",
    "            raise TypeError(\"ax_titles should be None or str for single axis plot\")\n",
    "        _ax = self.set_axis(_ax, title=self.ax_titles, xlabel=self.x_axis_label, ylabel=self.y_axis_label)\n",
    "\n",
    "        return _fig, _ax\n",
    "    \n",
    "    \n",
    "    def make_row_fig(self):\n",
    "        _fig, _axes = plt.subplots(self.ax_layout[0], self.ax_layout[1], figsize=self.figure_size,\n",
    "                                        sharex = self.sharex, sharey=self.sharey)\n",
    "        if self.shareylabel:\n",
    "            \n",
    "            _axes[0] = self.set_axis(_axes[0], title=self.ax_titles[0], xlabel=self.x_axis_label, ylabel=self.y_axis_label)\n",
    "            for k in range(1, len(_axes)):\n",
    "                _axes[k] = self.set_axis(_axes[k], title=self.ax_titles[k], xlabel=self.x_axis_label)\n",
    "        else:\n",
    "            for k in range(len(_axes)):\n",
    "                    _axes[k] = self.set_axis(_axes[k], self.ax_titles[k], xlabel=self.x_axis_label, ylabel=self.y_axis_label)\n",
    "            \n",
    "        return _fig, _axes\n",
    "    \n",
    "    \n",
    "    def make_col_fig(self):\n",
    "        _fig, _axes = plt.subplots(self.ax_layout[0], self.ax_layout[1], figsize=self.figure_size,\n",
    "                                        sharex = self.sharex, sharey=self.sharey)\n",
    "        \n",
    "        if self.sharexlabel:\n",
    "            for k in range(len(_axes) - 1):\n",
    "                _axes[k] = self.set_axis(_axes[k], self.ax_titles[k], ylabel=self.y_axis_label)\n",
    "            _axes[-1] = self.set_axis(_axes[-1], self.ax_titles[-1], xlabel=self.x_axis_label, ylabel=self.y_axis_label)\n",
    "   \n",
    "        else:\n",
    "            for k in range(len(_axes)):\n",
    "                    _axes[k] = self.set_axis(_axes[k], self.ax_titles[k], xlabel=self.x_axis_label, ylabel=self.y_axis_label)\n",
    "        \n",
    "        return _fig, _axes\n",
    "            \n",
    "        \n",
    "    def set_axis(self, axis, title=None, xlabel=None, ylabel=None):\n",
    "        if title is not None: \n",
    "            axis.set_title(title, fontsize=self.ax_title_font_size)\n",
    "        if xlabel is not None:\n",
    "            axis.set_xlabel(xlabel, fontsize=self.axis_label_font_size)\n",
    "        if ylabel is not None:\n",
    "            axis.set_ylabel(ylabel, fontsize=self.axis_label_font_size)\n",
    "        axis.tick_params(labelsize=self.tick_font_size)\n",
    "\n",
    "        return axis"
   ]
  },
  {
   "cell_type": "code",
   "execution_count": 44,
   "metadata": {},
   "outputs": [
    {
     "data": {
      "image/png": "[encoded data removed]",
      "text/plain": [
       "<matplotlib.figure.Figure at 0x11ddddc88>"
      ]
     },
     "metadata": {},
     "output_type": "display_data"
    }
   ],
   "source": [
    "args = pack_args()\n",
    "plot_format = FormattedPlot(**args)\n",
    "fig, ax = plot_format.generate_formatted_figure()"
   ]
  },
  {
   "cell_type": "code",
   "execution_count": null,
   "metadata": {
    "collapsed": true
   },
   "outputs": [],
   "source": []
  }
 ],
 "metadata": {
  "kernelspec": {
   "display_name": "Python 3",
   "language": "python",
   "name": "python3"
  },
  "language_info": {
   "codemirror_mode": {
    "name": "ipython",
    "version": 3
   },
   "file_extension": ".py",
   "mimetype": "text/x-python",
   "name": "python",
   "nbconvert_exporter": "python",
   "pygments_lexer": "ipython3",
   "version": "3.6.7"
  }
 },
 "nbformat": 4,
 "nbformat_minor": 2
}
